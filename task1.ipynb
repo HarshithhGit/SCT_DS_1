{
 "cells": [
  {
   "cell_type": "markdown",
   "id": "12cedaec-deb5-443a-adcd-fe74306c1af8",
   "metadata": {},
   "source": [
    "## Skillcraft Technology Task-1"
   ]
  },
  {
   "cell_type": "code",
   "execution_count": 2,
   "id": "da6e601e-0fe4-473f-9e36-cd22f3a93e28",
   "metadata": {},
   "outputs": [],
   "source": [
    "import pandas as pd \n",
    "import seaborn as sns\n",
    "import numpy as np \n",
    "import matplotlib.pyplot as plt"
   ]
  },
  {
   "cell_type": "code",
   "execution_count": 4,
   "id": "3ab92907-2241-462b-830c-5c82a386d163",
   "metadata": {},
   "outputs": [],
   "source": [
    "df=pd.read_csv('population.csv',skiprows=4)"
   ]
  },
  {
   "cell_type": "code",
   "execution_count": 5,
   "id": "61d8a633-39b4-428b-b60d-0af8c4a0feae",
   "metadata": {},
   "outputs": [
    {
     "data": {
      "text/html": [
       "<div>\n",
       "<style scoped>\n",
       "    .dataframe tbody tr th:only-of-type {\n",
       "        vertical-align: middle;\n",
       "    }\n",
       "\n",
       "    .dataframe tbody tr th {\n",
       "        vertical-align: top;\n",
       "    }\n",
       "\n",
       "    .dataframe thead th {\n",
       "        text-align: right;\n",
       "    }\n",
       "</style>\n",
       "<table border=\"1\" class=\"dataframe\">\n",
       "  <thead>\n",
       "    <tr style=\"text-align: right;\">\n",
       "      <th></th>\n",
       "      <th>Country Name</th>\n",
       "      <th>Country Code</th>\n",
       "      <th>Indicator Name</th>\n",
       "      <th>Indicator Code</th>\n",
       "      <th>1960</th>\n",
       "      <th>1961</th>\n",
       "      <th>1962</th>\n",
       "      <th>1963</th>\n",
       "      <th>1964</th>\n",
       "      <th>1965</th>\n",
       "      <th>...</th>\n",
       "      <th>2016</th>\n",
       "      <th>2017</th>\n",
       "      <th>2018</th>\n",
       "      <th>2019</th>\n",
       "      <th>2020</th>\n",
       "      <th>2021</th>\n",
       "      <th>2022</th>\n",
       "      <th>2023</th>\n",
       "      <th>2024</th>\n",
       "      <th>Unnamed: 69</th>\n",
       "    </tr>\n",
       "  </thead>\n",
       "  <tbody>\n",
       "    <tr>\n",
       "      <th>0</th>\n",
       "      <td>Aruba</td>\n",
       "      <td>ABW</td>\n",
       "      <td>Population, total</td>\n",
       "      <td>SP.POP.TOTL</td>\n",
       "      <td>54922.0</td>\n",
       "      <td>55578.0</td>\n",
       "      <td>56320.0</td>\n",
       "      <td>57002.0</td>\n",
       "      <td>57619.0</td>\n",
       "      <td>58190.0</td>\n",
       "      <td>...</td>\n",
       "      <td>108727.0</td>\n",
       "      <td>108735.0</td>\n",
       "      <td>108908.0</td>\n",
       "      <td>109203.0</td>\n",
       "      <td>108587.0</td>\n",
       "      <td>107700.0</td>\n",
       "      <td>107310.0</td>\n",
       "      <td>107359.0</td>\n",
       "      <td>107624.0</td>\n",
       "      <td>NaN</td>\n",
       "    </tr>\n",
       "    <tr>\n",
       "      <th>1</th>\n",
       "      <td>Africa Eastern and Southern</td>\n",
       "      <td>AFE</td>\n",
       "      <td>Population, total</td>\n",
       "      <td>SP.POP.TOTL</td>\n",
       "      <td>130075728.0</td>\n",
       "      <td>133534923.0</td>\n",
       "      <td>137171659.0</td>\n",
       "      <td>140945536.0</td>\n",
       "      <td>144904094.0</td>\n",
       "      <td>149033472.0</td>\n",
       "      <td>...</td>\n",
       "      <td>623369401.0</td>\n",
       "      <td>640058741.0</td>\n",
       "      <td>657801085.0</td>\n",
       "      <td>675950189.0</td>\n",
       "      <td>694446100.0</td>\n",
       "      <td>713090928.0</td>\n",
       "      <td>731821393.0</td>\n",
       "      <td>750503764.0</td>\n",
       "      <td>769294618.0</td>\n",
       "      <td>NaN</td>\n",
       "    </tr>\n",
       "    <tr>\n",
       "      <th>2</th>\n",
       "      <td>Afghanistan</td>\n",
       "      <td>AFG</td>\n",
       "      <td>Population, total</td>\n",
       "      <td>SP.POP.TOTL</td>\n",
       "      <td>9035043.0</td>\n",
       "      <td>9214083.0</td>\n",
       "      <td>9404406.0</td>\n",
       "      <td>9604487.0</td>\n",
       "      <td>9814318.0</td>\n",
       "      <td>10036008.0</td>\n",
       "      <td>...</td>\n",
       "      <td>34700612.0</td>\n",
       "      <td>35688935.0</td>\n",
       "      <td>36743039.0</td>\n",
       "      <td>37856121.0</td>\n",
       "      <td>39068979.0</td>\n",
       "      <td>40000412.0</td>\n",
       "      <td>40578842.0</td>\n",
       "      <td>41454761.0</td>\n",
       "      <td>42647492.0</td>\n",
       "      <td>NaN</td>\n",
       "    </tr>\n",
       "    <tr>\n",
       "      <th>3</th>\n",
       "      <td>Africa Western and Central</td>\n",
       "      <td>AFW</td>\n",
       "      <td>Population, total</td>\n",
       "      <td>SP.POP.TOTL</td>\n",
       "      <td>97630925.0</td>\n",
       "      <td>99706674.0</td>\n",
       "      <td>101854756.0</td>\n",
       "      <td>104089175.0</td>\n",
       "      <td>106388440.0</td>\n",
       "      <td>108772632.0</td>\n",
       "      <td>...</td>\n",
       "      <td>429454743.0</td>\n",
       "      <td>440882906.0</td>\n",
       "      <td>452195915.0</td>\n",
       "      <td>463365429.0</td>\n",
       "      <td>474569351.0</td>\n",
       "      <td>485920997.0</td>\n",
       "      <td>497387180.0</td>\n",
       "      <td>509398589.0</td>\n",
       "      <td>521764076.0</td>\n",
       "      <td>NaN</td>\n",
       "    </tr>\n",
       "    <tr>\n",
       "      <th>4</th>\n",
       "      <td>Angola</td>\n",
       "      <td>AGO</td>\n",
       "      <td>Population, total</td>\n",
       "      <td>SP.POP.TOTL</td>\n",
       "      <td>5231654.0</td>\n",
       "      <td>5301583.0</td>\n",
       "      <td>5354310.0</td>\n",
       "      <td>5408320.0</td>\n",
       "      <td>5464187.0</td>\n",
       "      <td>5521981.0</td>\n",
       "      <td>...</td>\n",
       "      <td>29183070.0</td>\n",
       "      <td>30234839.0</td>\n",
       "      <td>31297155.0</td>\n",
       "      <td>32375632.0</td>\n",
       "      <td>33451132.0</td>\n",
       "      <td>34532429.0</td>\n",
       "      <td>35635029.0</td>\n",
       "      <td>36749906.0</td>\n",
       "      <td>37885849.0</td>\n",
       "      <td>NaN</td>\n",
       "    </tr>\n",
       "  </tbody>\n",
       "</table>\n",
       "<p>5 rows × 70 columns</p>\n",
       "</div>"
      ],
      "text/plain": [
       "                  Country Name Country Code     Indicator Name Indicator Code  \\\n",
       "0                        Aruba          ABW  Population, total    SP.POP.TOTL   \n",
       "1  Africa Eastern and Southern          AFE  Population, total    SP.POP.TOTL   \n",
       "2                  Afghanistan          AFG  Population, total    SP.POP.TOTL   \n",
       "3   Africa Western and Central          AFW  Population, total    SP.POP.TOTL   \n",
       "4                       Angola          AGO  Population, total    SP.POP.TOTL   \n",
       "\n",
       "          1960         1961         1962         1963         1964  \\\n",
       "0      54922.0      55578.0      56320.0      57002.0      57619.0   \n",
       "1  130075728.0  133534923.0  137171659.0  140945536.0  144904094.0   \n",
       "2    9035043.0    9214083.0    9404406.0    9604487.0    9814318.0   \n",
       "3   97630925.0   99706674.0  101854756.0  104089175.0  106388440.0   \n",
       "4    5231654.0    5301583.0    5354310.0    5408320.0    5464187.0   \n",
       "\n",
       "          1965  ...         2016         2017         2018         2019  \\\n",
       "0      58190.0  ...     108727.0     108735.0     108908.0     109203.0   \n",
       "1  149033472.0  ...  623369401.0  640058741.0  657801085.0  675950189.0   \n",
       "2   10036008.0  ...   34700612.0   35688935.0   36743039.0   37856121.0   \n",
       "3  108772632.0  ...  429454743.0  440882906.0  452195915.0  463365429.0   \n",
       "4    5521981.0  ...   29183070.0   30234839.0   31297155.0   32375632.0   \n",
       "\n",
       "          2020         2021         2022         2023         2024  \\\n",
       "0     108587.0     107700.0     107310.0     107359.0     107624.0   \n",
       "1  694446100.0  713090928.0  731821393.0  750503764.0  769294618.0   \n",
       "2   39068979.0   40000412.0   40578842.0   41454761.0   42647492.0   \n",
       "3  474569351.0  485920997.0  497387180.0  509398589.0  521764076.0   \n",
       "4   33451132.0   34532429.0   35635029.0   36749906.0   37885849.0   \n",
       "\n",
       "   Unnamed: 69  \n",
       "0          NaN  \n",
       "1          NaN  \n",
       "2          NaN  \n",
       "3          NaN  \n",
       "4          NaN  \n",
       "\n",
       "[5 rows x 70 columns]"
      ]
     },
     "execution_count": 5,
     "metadata": {},
     "output_type": "execute_result"
    }
   ],
   "source": [
    "df.head()"
   ]
  },
  {
   "cell_type": "code",
   "execution_count": 6,
   "id": "1449918f-4e62-4daa-a2f8-692a868dbf2a",
   "metadata": {},
   "outputs": [
    {
     "name": "stdout",
     "output_type": "stream",
     "text": [
      "<class 'pandas.core.frame.DataFrame'>\n",
      "RangeIndex: 266 entries, 0 to 265\n",
      "Data columns (total 70 columns):\n",
      " #   Column          Non-Null Count  Dtype  \n",
      "---  ------          --------------  -----  \n",
      " 0   Country Name    266 non-null    object \n",
      " 1   Country Code    266 non-null    object \n",
      " 2   Indicator Name  266 non-null    object \n",
      " 3   Indicator Code  266 non-null    object \n",
      " 4   1960            264 non-null    float64\n",
      " 5   1961            264 non-null    float64\n",
      " 6   1962            264 non-null    float64\n",
      " 7   1963            264 non-null    float64\n",
      " 8   1964            264 non-null    float64\n",
      " 9   1965            264 non-null    float64\n",
      " 10  1966            264 non-null    float64\n",
      " 11  1967            264 non-null    float64\n",
      " 12  1968            264 non-null    float64\n",
      " 13  1969            264 non-null    float64\n",
      " 14  1970            264 non-null    float64\n",
      " 15  1971            264 non-null    float64\n",
      " 16  1972            264 non-null    float64\n",
      " 17  1973            264 non-null    float64\n",
      " 18  1974            264 non-null    float64\n",
      " 19  1975            264 non-null    float64\n",
      " 20  1976            264 non-null    float64\n",
      " 21  1977            264 non-null    float64\n",
      " 22  1978            264 non-null    float64\n",
      " 23  1979            264 non-null    float64\n",
      " 24  1980            264 non-null    float64\n",
      " 25  1981            264 non-null    float64\n",
      " 26  1982            264 non-null    float64\n",
      " 27  1983            264 non-null    float64\n",
      " 28  1984            264 non-null    float64\n",
      " 29  1985            264 non-null    float64\n",
      " 30  1986            264 non-null    float64\n",
      " 31  1987            264 non-null    float64\n",
      " 32  1988            264 non-null    float64\n",
      " 33  1989            264 non-null    float64\n",
      " 34  1990            265 non-null    float64\n",
      " 35  1991            265 non-null    float64\n",
      " 36  1992            265 non-null    float64\n",
      " 37  1993            265 non-null    float64\n",
      " 38  1994            265 non-null    float64\n",
      " 39  1995            265 non-null    float64\n",
      " 40  1996            265 non-null    float64\n",
      " 41  1997            265 non-null    float64\n",
      " 42  1998            265 non-null    float64\n",
      " 43  1999            265 non-null    float64\n",
      " 44  2000            265 non-null    float64\n",
      " 45  2001            265 non-null    float64\n",
      " 46  2002            265 non-null    float64\n",
      " 47  2003            265 non-null    float64\n",
      " 48  2004            265 non-null    float64\n",
      " 49  2005            265 non-null    float64\n",
      " 50  2006            265 non-null    float64\n",
      " 51  2007            265 non-null    float64\n",
      " 52  2008            265 non-null    float64\n",
      " 53  2009            265 non-null    float64\n",
      " 54  2010            265 non-null    float64\n",
      " 55  2011            265 non-null    float64\n",
      " 56  2012            265 non-null    float64\n",
      " 57  2013            265 non-null    float64\n",
      " 58  2014            265 non-null    float64\n",
      " 59  2015            265 non-null    float64\n",
      " 60  2016            265 non-null    float64\n",
      " 61  2017            265 non-null    float64\n",
      " 62  2018            265 non-null    float64\n",
      " 63  2019            265 non-null    float64\n",
      " 64  2020            265 non-null    float64\n",
      " 65  2021            265 non-null    float64\n",
      " 66  2022            265 non-null    float64\n",
      " 67  2023            265 non-null    float64\n",
      " 68  2024            265 non-null    float64\n",
      " 69  Unnamed: 69     0 non-null      float64\n",
      "dtypes: float64(66), object(4)\n",
      "memory usage: 145.6+ KB\n"
     ]
    }
   ],
   "source": [
    "df.info()"
   ]
  },
  {
   "cell_type": "code",
   "execution_count": 8,
   "id": "45b752bc-1bb8-4ef1-8961-e43e322ccc2c",
   "metadata": {},
   "outputs": [
    {
     "name": "stdout",
     "output_type": "stream",
     "text": [
      "['Country Name', 'Country Code', 'Indicator Name', 'Indicator Code', '1960', '1961', '1962', '1963', '1964', '1965', '1966', '1967', '1968', '1969', '1970', '1971', '1972', '1973', '1974', '1975', '1976', '1977', '1978', '1979', '1980', '1981', '1982', '1983', '1984', '1985', '1986', '1987', '1988', '1989', '1990', '1991', '1992', '1993', '1994', '1995', '1996', '1997', '1998', '1999', '2000', '2001', '2002', '2003', '2004', '2005', '2006', '2007', '2008', '2009', '2010', '2011', '2012', '2013', '2014', '2015', '2016', '2017', '2018', '2019', '2020', '2021', '2022', '2023', '2024', 'Unnamed: 69']\n"
     ]
    }
   ],
   "source": [
    "print(df.columns.tolist())"
   ]
  },
  {
   "cell_type": "code",
   "execution_count": 9,
   "id": "1d2d12cc-37f7-499a-a2e1-d93f7372450e",
   "metadata": {},
   "outputs": [],
   "source": [
    "df_2024=df[['Country Name','2024']].dropna()\n",
    "df_2024 = df_2024.sort_values(by=\"2024\", ascending=False).head(10)  # Top 10 countries\n"
   ]
  },
  {
   "cell_type": "markdown",
   "id": "88ebaf99-10a1-4162-a111-eb93dbdbdbc0",
   "metadata": {},
   "source": [
    "## Create bar chart\n"
   ]
  },
  {
   "cell_type": "code",
   "execution_count": 11,
   "id": "12daf837-ba98-484e-904e-2870064fad8e",
   "metadata": {},
   "outputs": [
    {
     "data": {
      "image/png": "[encoded data removed]",
      "text/plain": [
       "<Figure size 1000x600 with 1 Axes>"
      ]
     },
     "metadata": {},
     "output_type": "display_data"
    }
   ],
   "source": [
    "plt.figure(figsize=(10,6))\n",
    "sns.barplot(data=df_2024, x=\"2024\", y=\"Country Name\", hue=\"Country Name\", palette=\"viridis\", legend=False)\n",
    "\n",
    "plt.xlabel(\"Population (2024)\")\n",
    "plt.ylabel(\"Country\")\n",
    "plt.title(\"Top 10 Most Populated Countries in 2024\")\n",
    "plt.show()"
   ]
  },
  {
   "cell_type": "markdown",
   "id": "8af7008e-66f6-4a70-8fa7-1816318ea709",
   "metadata": {},
   "source": [
    "## Histogram graph"
   ]
  },
  {
   "cell_type": "code",
   "execution_count": 14,
   "id": "f05b9dd0-04ea-44c2-84a1-5b5f0088391f",
   "metadata": {},
   "outputs": [
    {
     "data": {
      "image/png": "[encoded data removed]",
      "text/plain": [
       "<Figure size 800x500 with 1 Axes>"
      ]
     },
     "metadata": {},
     "output_type": "display_data"
    }
   ],
   "source": [
    "plt.figure(figsize=(8, 5))\n",
    "sns.histplot(df_2024\n",
    "    [\"2024\"], bins=10, kde=True, color=\"yellow\")\n",
    "\n",
    "plt.xlabel(\"Population (2024)\")\n",
    "plt.ylabel(\"Frequency\")\n",
    "plt.title(\"Distribution of Population Across Top 10 Countries (2024)\")\n",
    "plt.show()"
   ]
  },
  {
   "cell_type": "code",
   "execution_count": null,
   "id": "0f6cb0b1-8b69-498e-b068-c96e6cb40def",
   "metadata": {},
   "outputs": [],
   "source": []
  }
 ],
 "metadata": {
  "kernelspec": {
   "display_name": "Python 3 (ipykernel)",
   "language": "python",
   "name": "python3"
  },
  "language_info": {
   "codemirror_mode": {
    "name": "ipython",
    "version": 3
   },
   "file_extension": ".py",
   "mimetype": "text/x-python",
   "name": "python",
   "nbconvert_exporter": "python",
   "pygments_lexer": "ipython3",
   "version": "3.13.5"
  }
 },
 "nbformat": 4,
 "nbformat_minor": 5
}
